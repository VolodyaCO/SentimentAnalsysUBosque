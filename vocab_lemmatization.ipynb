{
 "cells": [
  {
   "cell_type": "code",
   "execution_count": 2,
   "metadata": {},
   "outputs": [
    {
     "ename": "ImportError",
     "evalue": "No module named 'pattern'",
     "output_type": "error",
     "traceback": [
      "\u001b[0;31m---------------------------------------------------------------------------\u001b[0m",
      "\u001b[0;31mImportError\u001b[0m                               Traceback (most recent call last)",
      "\u001b[0;32m<ipython-input-2-effaeac0ea36>\u001b[0m in \u001b[0;36m<module>\u001b[0;34m()\u001b[0m\n\u001b[1;32m      1\u001b[0m \u001b[0;32mimport\u001b[0m \u001b[0mos\u001b[0m  \u001b[0;31m# importa módulo para trabajar con sistema operativo\u001b[0m\u001b[0;34m\u001b[0m\u001b[0m\n\u001b[1;32m      2\u001b[0m \u001b[0;32mimport\u001b[0m \u001b[0mpickle\u001b[0m  \u001b[0;31m# módulo para empaquetar objetos de python en archivos\u001b[0m\u001b[0;34m\u001b[0m\u001b[0m\n\u001b[0;32m----> 3\u001b[0;31m \u001b[0;32mfrom\u001b[0m \u001b[0mpattern\u001b[0m\u001b[0;34m.\u001b[0m\u001b[0mes\u001b[0m \u001b[0;32mimport\u001b[0m \u001b[0mparse\u001b[0m  \u001b[0;31m# el lematizador\u001b[0m\u001b[0;34m\u001b[0m\u001b[0m\n\u001b[0m",
      "\u001b[0;31mImportError\u001b[0m: No module named 'pattern'"
     ]
    }
   ],
   "source": [
    "import os  # importa módulo para trabajar con sistema operativo\n",
    "import pickle  # módulo para empaquetar objetos de python en archivos\n",
    "from pattern.es import parse  # el lematizador"
   ]
  },
  {
   "cell_type": "code",
   "execution_count": 5,
   "metadata": {},
   "outputs": [],
   "source": [
    "with open(os.path.join(\"pickles\", 'non_lema_vocab.p'), \"rb\") as f:\n",
    "    vocab = pickle.load(f)\n",
    "with open(os.path.join(\"pickles\", 'vocab_dist.p'), \"rb\") as f:\n",
    "    fdist = pickle.load(f)"
   ]
  },
  {
   "cell_type": "code",
   "execution_count": 11,
   "metadata": {},
   "outputs": [
    {
     "name": "stdout",
     "output_type": "stream",
     "text": [
      "<class 'nltk.probability.FreqDist'>\n",
      "bloqueos 2\n"
     ]
    }
   ],
   "source": [
    "print type(fdist)\n",
    "for sample in fdist:\n",
    "    print sample, fdist[sample]\n",
    "    break"
   ]
  },
  {
   "cell_type": "code",
   "execution_count": 3,
   "metadata": {},
   "outputs": [
    {
     "name": "stdout",
     "output_type": "stream",
     "text": [
      "[u'adelanta', u'contaminaci\\xf3n', u'@oriosm89', u'http://t.cd/gzt96seo', u'http://t.cd/mwsmb3s8', u'http://t.cd/ezoi08nb', u'@miguel_afd', u'http://t.cd/0ag8awc8', u'tr\\xedos', u'derrumbe', u'http://t.cd/pvrckecf', u'mofe', u'http://t.cd/8ijlos1b', u'56.404', u'carnavaaaal', u'@access_info', u'sanchez-cuenca', u'http://t.cd/wwxuwrnh', u'http://t.cd/cxaqmwpc', u'ichu', u'forja', u'relajados', u'http://t.cd/1yrbrbig', u'http://t.cd/t0dtyxrn', u'susceptible', u'benepl\\xe1cito', u'ble', u'mill\\xf3n', u'http://t.cd/jwoaxoud', u'cuatro']\n"
     ]
    }
   ],
   "source": [
    "milista = list(vocab)[0:30]\n",
    "print(milista)"
   ]
  },
  {
   "cell_type": "code",
   "execution_count": 12,
   "metadata": {},
   "outputs": [],
   "source": [
    "lem_vocab = {}  # crea diccionario vacio para guardar las palabras lematizadas del vocabulario\n",
    "for sample in fdist:\n",
    "    chunk = parse(sample, lemmata=True, tokenizer=True)\n",
    "    lema = chunk.split()[0][0][-1]\n",
    "    try:\n",
    "        lem_vocab[lema] += fdist[sample]\n",
    "    except:\n",
    "        lem_vocab[lema] = fdist[sample]"
   ]
  },
  {
   "cell_type": "code",
   "execution_count": 14,
   "metadata": {},
   "outputs": [
    {
     "data": {
      "text/plain": [
       "[u'',\n",
       " u'acomplejada',\n",
       " u'cesahttp',\n",
       " u'alcoholimetro',\n",
       " u'tele.muchos',\n",
       " u'debat\\xeds',\n",
       " u'emancipa',\n",
       " u'coordinadores',\n",
       " u'woody',\n",
       " u'tildado']"
      ]
     },
     "execution_count": 14,
     "metadata": {},
     "output_type": "execute_result"
    }
   ],
   "source": [
    "lem_vocab.keys()[0:10]"
   ]
  },
  {
   "cell_type": "code",
   "execution_count": 17,
   "metadata": {
    "collapsed": true
   },
   "outputs": [],
   "source": [
    "with open(os.path.join('pickles', 'lema_vocab.p'), \"wb\") as f:\n",
    "    pickle.dump(lem_vocab.keys(), f)\n",
    "with open(os.path.join('pickles', 'lema_dist.p'), \"wb\") as f:\n",
    "    pickle.dump(lem_vocab, f)"
   ]
  },
  {
   "cell_type": "code",
   "execution_count": 6,
   "metadata": {},
   "outputs": [
    {
     "data": {
      "text/plain": [
       "[u'adelantar',\n",
       " u'contaminaci\\xf3n',\n",
       " u'@',\n",
       " u'gzt96seo',\n",
       " u'mwsmb3s8',\n",
       " u'ezoi08nb',\n",
       " u'@',\n",
       " u'0ag8awc8',\n",
       " u'tr\\xedo',\n",
       " u'derrumbe',\n",
       " u'pvrckecf',\n",
       " u'mofe',\n",
       " u'8ijlos1b',\n",
       " u'56.404',\n",
       " u'carnavaaaal',\n",
       " u'@',\n",
       " u'sanchez-cuenca',\n",
       " u'wwxuwrnh',\n",
       " u'cxaqmwpc',\n",
       " u'ichu',\n",
       " u'forja',\n",
       " u'relajados',\n",
       " u'1yrbrbig',\n",
       " u't0dtyxrn',\n",
       " u'susceptible',\n",
       " u'benepl\\xe1cito',\n",
       " u'ble',\n",
       " u'mill\\xf3n',\n",
       " u'jwoaxoud',\n",
       " u'cuatro',\n",
       " u'@',\n",
       " u'apoyar',\n",
       " u'liaran',\n",
       " u'moheced',\n",
       " u'@',\n",
       " u'jod\\xed',\n",
       " u'seguro.el',\n",
       " u'cautos',\n",
       " u's4o2rdly',\n",
       " u'montan',\n",
       " u'osidv5mv',\n",
       " u'retalladas',\n",
       " u'realetes',\n",
       " u'bonas',\n",
       " u'bojeo',\n",
       " u'@',\n",
       " u'designara',\n",
       " u'fu9wbjbx',\n",
       " u'qcxubovo',\n",
       " u'ds5vdcpg',\n",
       " u'etxenike',\n",
       " u'uxk9dbvo',\n",
       " u'olvidarse',\n",
       " u'horario',\n",
       " u'escribiremos',\n",
       " u'arbitrariedad',\n",
       " u'e7klqpqm',\n",
       " u'3\\xba',\n",
       " u'televisor',\n",
       " u'comenzar',\n",
       " u'pedante',\n",
       " u'ahgghh',\n",
       " u'aiapan1i',\n",
       " u'1.7',\n",
       " u'ppmjudj4',\n",
       " u'contrario',\n",
       " u'#',\n",
       " u'qe9nrzqh',\n",
       " u'pa\\xeds.estoy',\n",
       " u'1333653419_849770.html',\n",
       " u'm\\xe1laga',\n",
       " u'recaudaci\\xf3n',\n",
       " u'eclipse',\n",
       " u'tele.muchos',\n",
       " u'xzce0op2',\n",
       " u'@',\n",
       " u'sftib43b',\n",
       " u'@',\n",
       " u'ejemplificar',\n",
       " u'generale',\n",
       " u'constato',\n",
       " u'd7esgu5r',\n",
       " u'ukenwj0v',\n",
       " u'cerrarlo',\n",
       " u'triunfaran',\n",
       " u'sovi\\xe9tico',\n",
       " u'mundo.buena',\n",
       " u'manchar',\n",
       " u'fusilamiento',\n",
       " u'@']"
      ]
     },
     "execution_count": 6,
     "metadata": {},
     "output_type": "execute_result"
    }
   ],
   "source": [
    "lem_vocab[:90]"
   ]
  },
  {
   "cell_type": "code",
   "execution_count": null,
   "metadata": {
    "collapsed": true
   },
   "outputs": [],
   "source": []
  }
 ],
 "metadata": {
  "kernelspec": {
   "display_name": "Python 3",
   "language": "python",
   "name": "python3"
  },
  "language_info": {
   "codemirror_mode": {
    "name": "ipython",
    "version": 3
   },
   "file_extension": ".py",
   "mimetype": "text/x-python",
   "name": "python",
   "nbconvert_exporter": "python",
   "pygments_lexer": "ipython3",
   "version": "3.5.4"
  }
 },
 "nbformat": 4,
 "nbformat_minor": 1
}
